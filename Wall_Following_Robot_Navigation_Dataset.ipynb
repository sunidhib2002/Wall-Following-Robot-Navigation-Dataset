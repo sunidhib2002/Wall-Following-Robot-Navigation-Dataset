{
  "nbformat": 4,
  "nbformat_minor": 0,
  "metadata": {
    "colab": {
      "provenance": [],
      "authorship_tag": "ABX9TyNcouVZxfEoAmNc0i1AM8RJ",
      "include_colab_link": true
    },
    "kernelspec": {
      "name": "python3",
      "display_name": "Python 3"
    },
    "language_info": {
      "name": "python"
    }
  },
  "cells": [
    {
      "cell_type": "markdown",
      "metadata": {
        "id": "view-in-github",
        "colab_type": "text"
      },
      "source": [
        "<a href=\"https://colab.research.google.com/github/sunidhib2002/Wall-Following-Robot-Navigation-Dataset./blob/main/Wall_Following_Robot_Navigation_Dataset.ipynb\" target=\"_parent\"><img src=\"https://colab.research.google.com/assets/colab-badge.svg\" alt=\"Open In Colab\"/></a>"
      ]
    },
    {
      "cell_type": "markdown",
      "source": [
        "# Importing Libraries\n",
        "\n"
      ],
      "metadata": {
        "id": "q7c12iBp6o9v"
      }
    },
    {
      "cell_type": "code",
      "execution_count": 7,
      "metadata": {
        "id": "UupLA4mdZ39n"
      },
      "outputs": [],
      "source": [
        "import numpy as np\n",
        "import pandas as pd\n",
        "import matplotlib.pyplot as plt\n",
        "import seaborn as sns"
      ]
    },
    {
      "cell_type": "code",
      "source": [
        "path = '/content/sensor_readings_24.csv'"
      ],
      "metadata": {
        "id": "5klQspyzbrgG"
      },
      "execution_count": 8,
      "outputs": []
    },
    {
      "cell_type": "code",
      "source": [
        "headerList = ['S1','S2', 'S3', 'S4', 'S5', 'S6', 'S7', 'S8', 'S9', 'S10', 'S11', 'S12', 'S13', 'S14', 'S15', 'S16', 'S17', 'S18', 'S19', 'S20', 'S21' ,'S22', 'S23', 'S24','class'  ]"
      ],
      "metadata": {
        "id": "BolrL2f105SU"
      },
      "execution_count": 9,
      "outputs": []
    },
    {
      "cell_type": "code",
      "source": [
        "data = pd.read_csv(path, names= headerList, header = 0)"
      ],
      "metadata": {
        "id": "qvP4UYhjbzMQ"
      },
      "execution_count": 10,
      "outputs": []
    },
    {
      "cell_type": "code",
      "source": [
        "data.head()"
      ],
      "metadata": {
        "colab": {
          "base_uri": "https://localhost:8080/",
          "height": 279
        },
        "id": "XbloxlaBeV5F",
        "outputId": "e2c34891-e603-4b07-fae7-3ba224afa2c9"
      },
      "execution_count": 11,
      "outputs": [
        {
          "output_type": "execute_result",
          "data": {
            "text/plain": [
              "      S1     S2     S3     S4   S5     S6   S7     S8     S9    S10  ...  \\\n",
              "0  0.438  0.498  3.625  3.648  5.0  2.918  5.0  2.637  2.332  2.649  ...   \n",
              "1  0.438  0.498  3.625  3.629  5.0  2.918  5.0  2.637  2.334  2.643  ...   \n",
              "2  0.437  0.501  3.625  3.626  5.0  2.918  5.0  2.353  2.334  2.642  ...   \n",
              "3  0.438  0.498  3.626  3.629  5.0  2.918  5.0  2.640  2.334  2.639  ...   \n",
              "4  0.439  0.498  3.626  3.629  5.0  2.918  5.0  2.633  2.334  2.645  ...   \n",
              "\n",
              "     S16    S17    S18    S19    S20    S21    S22    S23    S24  \\\n",
              "0  0.592  0.502  0.493  0.504  0.449  0.431  0.444  0.443  0.429   \n",
              "1  0.593  0.502  0.493  0.504  0.449  0.431  0.444  0.446  0.429   \n",
              "2  0.593  0.502  0.493  0.504  0.449  0.431  0.444  0.444  0.429   \n",
              "3  0.592  0.502  0.493  0.504  0.449  0.431  0.444  0.441  0.429   \n",
              "4  0.589  0.502  0.493  0.504  0.446  0.431  0.444  0.444  0.430   \n",
              "\n",
              "               class  \n",
              "0  Slight-Right-Turn  \n",
              "1  Slight-Right-Turn  \n",
              "2  Slight-Right-Turn  \n",
              "3  Slight-Right-Turn  \n",
              "4  Slight-Right-Turn  \n",
              "\n",
              "[5 rows x 25 columns]"
            ],
            "text/html": [
              "\n",
              "  <div id=\"df-af0e1367-ecec-4edd-a461-1b57867ba3a7\">\n",
              "    <div class=\"colab-df-container\">\n",
              "      <div>\n",
              "<style scoped>\n",
              "    .dataframe tbody tr th:only-of-type {\n",
              "        vertical-align: middle;\n",
              "    }\n",
              "\n",
              "    .dataframe tbody tr th {\n",
              "        vertical-align: top;\n",
              "    }\n",
              "\n",
              "    .dataframe thead th {\n",
              "        text-align: right;\n",
              "    }\n",
              "</style>\n",
              "<table border=\"1\" class=\"dataframe\">\n",
              "  <thead>\n",
              "    <tr style=\"text-align: right;\">\n",
              "      <th></th>\n",
              "      <th>S1</th>\n",
              "      <th>S2</th>\n",
              "      <th>S3</th>\n",
              "      <th>S4</th>\n",
              "      <th>S5</th>\n",
              "      <th>S6</th>\n",
              "      <th>S7</th>\n",
              "      <th>S8</th>\n",
              "      <th>S9</th>\n",
              "      <th>S10</th>\n",
              "      <th>...</th>\n",
              "      <th>S16</th>\n",
              "      <th>S17</th>\n",
              "      <th>S18</th>\n",
              "      <th>S19</th>\n",
              "      <th>S20</th>\n",
              "      <th>S21</th>\n",
              "      <th>S22</th>\n",
              "      <th>S23</th>\n",
              "      <th>S24</th>\n",
              "      <th>class</th>\n",
              "    </tr>\n",
              "  </thead>\n",
              "  <tbody>\n",
              "    <tr>\n",
              "      <th>0</th>\n",
              "      <td>0.438</td>\n",
              "      <td>0.498</td>\n",
              "      <td>3.625</td>\n",
              "      <td>3.648</td>\n",
              "      <td>5.0</td>\n",
              "      <td>2.918</td>\n",
              "      <td>5.0</td>\n",
              "      <td>2.637</td>\n",
              "      <td>2.332</td>\n",
              "      <td>2.649</td>\n",
              "      <td>...</td>\n",
              "      <td>0.592</td>\n",
              "      <td>0.502</td>\n",
              "      <td>0.493</td>\n",
              "      <td>0.504</td>\n",
              "      <td>0.449</td>\n",
              "      <td>0.431</td>\n",
              "      <td>0.444</td>\n",
              "      <td>0.443</td>\n",
              "      <td>0.429</td>\n",
              "      <td>Slight-Right-Turn</td>\n",
              "    </tr>\n",
              "    <tr>\n",
              "      <th>1</th>\n",
              "      <td>0.438</td>\n",
              "      <td>0.498</td>\n",
              "      <td>3.625</td>\n",
              "      <td>3.629</td>\n",
              "      <td>5.0</td>\n",
              "      <td>2.918</td>\n",
              "      <td>5.0</td>\n",
              "      <td>2.637</td>\n",
              "      <td>2.334</td>\n",
              "      <td>2.643</td>\n",
              "      <td>...</td>\n",
              "      <td>0.593</td>\n",
              "      <td>0.502</td>\n",
              "      <td>0.493</td>\n",
              "      <td>0.504</td>\n",
              "      <td>0.449</td>\n",
              "      <td>0.431</td>\n",
              "      <td>0.444</td>\n",
              "      <td>0.446</td>\n",
              "      <td>0.429</td>\n",
              "      <td>Slight-Right-Turn</td>\n",
              "    </tr>\n",
              "    <tr>\n",
              "      <th>2</th>\n",
              "      <td>0.437</td>\n",
              "      <td>0.501</td>\n",
              "      <td>3.625</td>\n",
              "      <td>3.626</td>\n",
              "      <td>5.0</td>\n",
              "      <td>2.918</td>\n",
              "      <td>5.0</td>\n",
              "      <td>2.353</td>\n",
              "      <td>2.334</td>\n",
              "      <td>2.642</td>\n",
              "      <td>...</td>\n",
              "      <td>0.593</td>\n",
              "      <td>0.502</td>\n",
              "      <td>0.493</td>\n",
              "      <td>0.504</td>\n",
              "      <td>0.449</td>\n",
              "      <td>0.431</td>\n",
              "      <td>0.444</td>\n",
              "      <td>0.444</td>\n",
              "      <td>0.429</td>\n",
              "      <td>Slight-Right-Turn</td>\n",
              "    </tr>\n",
              "    <tr>\n",
              "      <th>3</th>\n",
              "      <td>0.438</td>\n",
              "      <td>0.498</td>\n",
              "      <td>3.626</td>\n",
              "      <td>3.629</td>\n",
              "      <td>5.0</td>\n",
              "      <td>2.918</td>\n",
              "      <td>5.0</td>\n",
              "      <td>2.640</td>\n",
              "      <td>2.334</td>\n",
              "      <td>2.639</td>\n",
              "      <td>...</td>\n",
              "      <td>0.592</td>\n",
              "      <td>0.502</td>\n",
              "      <td>0.493</td>\n",
              "      <td>0.504</td>\n",
              "      <td>0.449</td>\n",
              "      <td>0.431</td>\n",
              "      <td>0.444</td>\n",
              "      <td>0.441</td>\n",
              "      <td>0.429</td>\n",
              "      <td>Slight-Right-Turn</td>\n",
              "    </tr>\n",
              "    <tr>\n",
              "      <th>4</th>\n",
              "      <td>0.439</td>\n",
              "      <td>0.498</td>\n",
              "      <td>3.626</td>\n",
              "      <td>3.629</td>\n",
              "      <td>5.0</td>\n",
              "      <td>2.918</td>\n",
              "      <td>5.0</td>\n",
              "      <td>2.633</td>\n",
              "      <td>2.334</td>\n",
              "      <td>2.645</td>\n",
              "      <td>...</td>\n",
              "      <td>0.589</td>\n",
              "      <td>0.502</td>\n",
              "      <td>0.493</td>\n",
              "      <td>0.504</td>\n",
              "      <td>0.446</td>\n",
              "      <td>0.431</td>\n",
              "      <td>0.444</td>\n",
              "      <td>0.444</td>\n",
              "      <td>0.430</td>\n",
              "      <td>Slight-Right-Turn</td>\n",
              "    </tr>\n",
              "  </tbody>\n",
              "</table>\n",
              "<p>5 rows × 25 columns</p>\n",
              "</div>\n",
              "      <button class=\"colab-df-convert\" onclick=\"convertToInteractive('df-af0e1367-ecec-4edd-a461-1b57867ba3a7')\"\n",
              "              title=\"Convert this dataframe to an interactive table.\"\n",
              "              style=\"display:none;\">\n",
              "        \n",
              "  <svg xmlns=\"http://www.w3.org/2000/svg\" height=\"24px\"viewBox=\"0 0 24 24\"\n",
              "       width=\"24px\">\n",
              "    <path d=\"M0 0h24v24H0V0z\" fill=\"none\"/>\n",
              "    <path d=\"M18.56 5.44l.94 2.06.94-2.06 2.06-.94-2.06-.94-.94-2.06-.94 2.06-2.06.94zm-11 1L8.5 8.5l.94-2.06 2.06-.94-2.06-.94L8.5 2.5l-.94 2.06-2.06.94zm10 10l.94 2.06.94-2.06 2.06-.94-2.06-.94-.94-2.06-.94 2.06-2.06.94z\"/><path d=\"M17.41 7.96l-1.37-1.37c-.4-.4-.92-.59-1.43-.59-.52 0-1.04.2-1.43.59L10.3 9.45l-7.72 7.72c-.78.78-.78 2.05 0 2.83L4 21.41c.39.39.9.59 1.41.59.51 0 1.02-.2 1.41-.59l7.78-7.78 2.81-2.81c.8-.78.8-2.07 0-2.86zM5.41 20L4 18.59l7.72-7.72 1.47 1.35L5.41 20z\"/>\n",
              "  </svg>\n",
              "      </button>\n",
              "      \n",
              "  <style>\n",
              "    .colab-df-container {\n",
              "      display:flex;\n",
              "      flex-wrap:wrap;\n",
              "      gap: 12px;\n",
              "    }\n",
              "\n",
              "    .colab-df-convert {\n",
              "      background-color: #E8F0FE;\n",
              "      border: none;\n",
              "      border-radius: 50%;\n",
              "      cursor: pointer;\n",
              "      display: none;\n",
              "      fill: #1967D2;\n",
              "      height: 32px;\n",
              "      padding: 0 0 0 0;\n",
              "      width: 32px;\n",
              "    }\n",
              "\n",
              "    .colab-df-convert:hover {\n",
              "      background-color: #E2EBFA;\n",
              "      box-shadow: 0px 1px 2px rgba(60, 64, 67, 0.3), 0px 1px 3px 1px rgba(60, 64, 67, 0.15);\n",
              "      fill: #174EA6;\n",
              "    }\n",
              "\n",
              "    [theme=dark] .colab-df-convert {\n",
              "      background-color: #3B4455;\n",
              "      fill: #D2E3FC;\n",
              "    }\n",
              "\n",
              "    [theme=dark] .colab-df-convert:hover {\n",
              "      background-color: #434B5C;\n",
              "      box-shadow: 0px 1px 3px 1px rgba(0, 0, 0, 0.15);\n",
              "      filter: drop-shadow(0px 1px 2px rgba(0, 0, 0, 0.3));\n",
              "      fill: #FFFFFF;\n",
              "    }\n",
              "  </style>\n",
              "\n",
              "      <script>\n",
              "        const buttonEl =\n",
              "          document.querySelector('#df-af0e1367-ecec-4edd-a461-1b57867ba3a7 button.colab-df-convert');\n",
              "        buttonEl.style.display =\n",
              "          google.colab.kernel.accessAllowed ? 'block' : 'none';\n",
              "\n",
              "        async function convertToInteractive(key) {\n",
              "          const element = document.querySelector('#df-af0e1367-ecec-4edd-a461-1b57867ba3a7');\n",
              "          const dataTable =\n",
              "            await google.colab.kernel.invokeFunction('convertToInteractive',\n",
              "                                                     [key], {});\n",
              "          if (!dataTable) return;\n",
              "\n",
              "          const docLinkHtml = 'Like what you see? Visit the ' +\n",
              "            '<a target=\"_blank\" href=https://colab.research.google.com/notebooks/data_table.ipynb>data table notebook</a>'\n",
              "            + ' to learn more about interactive tables.';\n",
              "          element.innerHTML = '';\n",
              "          dataTable['output_type'] = 'display_data';\n",
              "          await google.colab.output.renderOutput(dataTable, element);\n",
              "          const docLink = document.createElement('div');\n",
              "          docLink.innerHTML = docLinkHtml;\n",
              "          element.appendChild(docLink);\n",
              "        }\n",
              "      </script>\n",
              "    </div>\n",
              "  </div>\n",
              "  "
            ]
          },
          "metadata": {},
          "execution_count": 11
        }
      ]
    },
    {
      "cell_type": "code",
      "source": [
        "data.shape"
      ],
      "metadata": {
        "colab": {
          "base_uri": "https://localhost:8080/"
        },
        "id": "NktBrtvdW7jr",
        "outputId": "226b64e6-2c21-48fc-ecec-a630e82b3228"
      },
      "execution_count": 12,
      "outputs": [
        {
          "output_type": "execute_result",
          "data": {
            "text/plain": [
              "(5455, 25)"
            ]
          },
          "metadata": {},
          "execution_count": 12
        }
      ]
    },
    {
      "cell_type": "markdown",
      "source": [
        "This dataset has 5455 rows and 25 columns."
      ],
      "metadata": {
        "id": "iOIEDJs6XSjC"
      }
    },
    {
      "cell_type": "code",
      "source": [
        "data.info()"
      ],
      "metadata": {
        "colab": {
          "base_uri": "https://localhost:8080/"
        },
        "id": "2o7gGeLOeW1z",
        "outputId": "31d459fd-4d07-4aa6-ffe0-8a749fc6ca4b"
      },
      "execution_count": 13,
      "outputs": [
        {
          "output_type": "stream",
          "name": "stdout",
          "text": [
            "<class 'pandas.core.frame.DataFrame'>\n",
            "RangeIndex: 5455 entries, 0 to 5454\n",
            "Data columns (total 25 columns):\n",
            " #   Column  Non-Null Count  Dtype  \n",
            "---  ------  --------------  -----  \n",
            " 0   S1      5455 non-null   float64\n",
            " 1   S2      5455 non-null   float64\n",
            " 2   S3      5455 non-null   float64\n",
            " 3   S4      5455 non-null   float64\n",
            " 4   S5      5455 non-null   float64\n",
            " 5   S6      5455 non-null   float64\n",
            " 6   S7      5455 non-null   float64\n",
            " 7   S8      5455 non-null   float64\n",
            " 8   S9      5455 non-null   float64\n",
            " 9   S10     5455 non-null   float64\n",
            " 10  S11     5455 non-null   float64\n",
            " 11  S12     5455 non-null   float64\n",
            " 12  S13     5455 non-null   float64\n",
            " 13  S14     5455 non-null   float64\n",
            " 14  S15     5455 non-null   float64\n",
            " 15  S16     5455 non-null   float64\n",
            " 16  S17     5455 non-null   float64\n",
            " 17  S18     5455 non-null   float64\n",
            " 18  S19     5455 non-null   float64\n",
            " 19  S20     5455 non-null   float64\n",
            " 20  S21     5455 non-null   float64\n",
            " 21  S22     5455 non-null   float64\n",
            " 22  S23     5455 non-null   float64\n",
            " 23  S24     5455 non-null   float64\n",
            " 24  class   5455 non-null   object \n",
            "dtypes: float64(24), object(1)\n",
            "memory usage: 1.0+ MB\n"
          ]
        }
      ]
    },
    {
      "cell_type": "code",
      "source": [
        "data.describe()"
      ],
      "metadata": {
        "id": "nwx7uBdrgdpb",
        "colab": {
          "base_uri": "https://localhost:8080/",
          "height": 393
        },
        "outputId": "7ea12545-1c1b-4215-d1fc-5dbab4373491"
      },
      "execution_count": 14,
      "outputs": [
        {
          "output_type": "execute_result",
          "data": {
            "text/plain": [
              "                S1           S2           S3           S4           S5  \\\n",
              "count  5455.000000  5455.000000  5455.000000  5455.000000  5455.000000   \n",
              "mean      1.471807     2.327378     2.489139     2.796346     2.958178   \n",
              "std       0.802753     1.410058     1.247454     1.309438     1.339062   \n",
              "min       0.400000     0.437000     0.470000     0.833000     1.120000   \n",
              "25%       0.921000     1.362000     1.538500     1.731000     1.774000   \n",
              "50%       1.335000     1.905000     2.064000     2.457000     2.667000   \n",
              "75%       1.814000     2.683000     2.739000     4.094000     4.314000   \n",
              "max       5.000000     5.025000     5.029000     5.017000     5.000000   \n",
              "\n",
              "                S6           S7           S8           S9          S10  ...  \\\n",
              "count  5455.000000  5455.000000  5455.000000  5455.000000  5455.000000  ...   \n",
              "mean      2.893068     3.350811     2.540431     3.125767     2.832421  ...   \n",
              "std       1.282693     1.413645     1.111653     1.357047     1.307960  ...   \n",
              "min       1.114000     1.122000     0.859000     0.836000     0.810000  ...   \n",
              "25%       1.785500     1.930500     1.618000     1.799500     1.636000  ...   \n",
              "50%       2.682000     3.225000     2.171000     2.802000     2.679000  ...   \n",
              "75%       3.835500     5.000000     3.193000     5.000000     3.526500  ...   \n",
              "max       5.005000     5.008000     5.087000     5.000000     5.022000  ...   \n",
              "\n",
              "               S15          S16          S17         S18          S19  \\\n",
              "count  5455.000000  5455.000000  5455.000000  5455.00000  5455.000000   \n",
              "mean      2.205857     1.202223     0.989921     0.91035     1.058212   \n",
              "std       1.715580     1.098638     0.942138     0.88959     1.144711   \n",
              "min       0.495000     0.424000     0.373000     0.35400     0.340000   \n",
              "25%       0.860000     0.690500     0.581000     0.53000     0.523500   \n",
              "50%       1.328000     0.803000     0.738000     0.68500     0.691000   \n",
              "75%       4.436500     1.159000     0.913000     0.83700     0.857000   \n",
              "max       5.000000     5.000000     5.000000     5.00000     5.000000   \n",
              "\n",
              "               S20          S21          S22          S23          S24  \n",
              "count  5455.000000  5455.000000  5455.000000  5455.000000  5455.000000  \n",
              "mean      1.076436     1.016030     1.778279     1.555250     1.578719  \n",
              "std       1.141570     0.887485     1.571726     1.291478     1.150480  \n",
              "min       0.355000     0.380000     0.370000     0.367000     0.377000  \n",
              "25%       0.542000     0.567000     0.743000     0.792000     0.884000  \n",
              "50%       0.693000     0.764000     1.031000     1.071000     1.289000  \n",
              "75%       0.863000     1.002500     2.068500     1.560000     1.657500  \n",
              "max       5.000000     5.000000     5.000000     5.000000     5.000000  \n",
              "\n",
              "[8 rows x 24 columns]"
            ],
            "text/html": [
              "\n",
              "  <div id=\"df-43782254-996d-4dc4-b6f8-96b5a1e7846c\">\n",
              "    <div class=\"colab-df-container\">\n",
              "      <div>\n",
              "<style scoped>\n",
              "    .dataframe tbody tr th:only-of-type {\n",
              "        vertical-align: middle;\n",
              "    }\n",
              "\n",
              "    .dataframe tbody tr th {\n",
              "        vertical-align: top;\n",
              "    }\n",
              "\n",
              "    .dataframe thead th {\n",
              "        text-align: right;\n",
              "    }\n",
              "</style>\n",
              "<table border=\"1\" class=\"dataframe\">\n",
              "  <thead>\n",
              "    <tr style=\"text-align: right;\">\n",
              "      <th></th>\n",
              "      <th>S1</th>\n",
              "      <th>S2</th>\n",
              "      <th>S3</th>\n",
              "      <th>S4</th>\n",
              "      <th>S5</th>\n",
              "      <th>S6</th>\n",
              "      <th>S7</th>\n",
              "      <th>S8</th>\n",
              "      <th>S9</th>\n",
              "      <th>S10</th>\n",
              "      <th>...</th>\n",
              "      <th>S15</th>\n",
              "      <th>S16</th>\n",
              "      <th>S17</th>\n",
              "      <th>S18</th>\n",
              "      <th>S19</th>\n",
              "      <th>S20</th>\n",
              "      <th>S21</th>\n",
              "      <th>S22</th>\n",
              "      <th>S23</th>\n",
              "      <th>S24</th>\n",
              "    </tr>\n",
              "  </thead>\n",
              "  <tbody>\n",
              "    <tr>\n",
              "      <th>count</th>\n",
              "      <td>5455.000000</td>\n",
              "      <td>5455.000000</td>\n",
              "      <td>5455.000000</td>\n",
              "      <td>5455.000000</td>\n",
              "      <td>5455.000000</td>\n",
              "      <td>5455.000000</td>\n",
              "      <td>5455.000000</td>\n",
              "      <td>5455.000000</td>\n",
              "      <td>5455.000000</td>\n",
              "      <td>5455.000000</td>\n",
              "      <td>...</td>\n",
              "      <td>5455.000000</td>\n",
              "      <td>5455.000000</td>\n",
              "      <td>5455.000000</td>\n",
              "      <td>5455.00000</td>\n",
              "      <td>5455.000000</td>\n",
              "      <td>5455.000000</td>\n",
              "      <td>5455.000000</td>\n",
              "      <td>5455.000000</td>\n",
              "      <td>5455.000000</td>\n",
              "      <td>5455.000000</td>\n",
              "    </tr>\n",
              "    <tr>\n",
              "      <th>mean</th>\n",
              "      <td>1.471807</td>\n",
              "      <td>2.327378</td>\n",
              "      <td>2.489139</td>\n",
              "      <td>2.796346</td>\n",
              "      <td>2.958178</td>\n",
              "      <td>2.893068</td>\n",
              "      <td>3.350811</td>\n",
              "      <td>2.540431</td>\n",
              "      <td>3.125767</td>\n",
              "      <td>2.832421</td>\n",
              "      <td>...</td>\n",
              "      <td>2.205857</td>\n",
              "      <td>1.202223</td>\n",
              "      <td>0.989921</td>\n",
              "      <td>0.91035</td>\n",
              "      <td>1.058212</td>\n",
              "      <td>1.076436</td>\n",
              "      <td>1.016030</td>\n",
              "      <td>1.778279</td>\n",
              "      <td>1.555250</td>\n",
              "      <td>1.578719</td>\n",
              "    </tr>\n",
              "    <tr>\n",
              "      <th>std</th>\n",
              "      <td>0.802753</td>\n",
              "      <td>1.410058</td>\n",
              "      <td>1.247454</td>\n",
              "      <td>1.309438</td>\n",
              "      <td>1.339062</td>\n",
              "      <td>1.282693</td>\n",
              "      <td>1.413645</td>\n",
              "      <td>1.111653</td>\n",
              "      <td>1.357047</td>\n",
              "      <td>1.307960</td>\n",
              "      <td>...</td>\n",
              "      <td>1.715580</td>\n",
              "      <td>1.098638</td>\n",
              "      <td>0.942138</td>\n",
              "      <td>0.88959</td>\n",
              "      <td>1.144711</td>\n",
              "      <td>1.141570</td>\n",
              "      <td>0.887485</td>\n",
              "      <td>1.571726</td>\n",
              "      <td>1.291478</td>\n",
              "      <td>1.150480</td>\n",
              "    </tr>\n",
              "    <tr>\n",
              "      <th>min</th>\n",
              "      <td>0.400000</td>\n",
              "      <td>0.437000</td>\n",
              "      <td>0.470000</td>\n",
              "      <td>0.833000</td>\n",
              "      <td>1.120000</td>\n",
              "      <td>1.114000</td>\n",
              "      <td>1.122000</td>\n",
              "      <td>0.859000</td>\n",
              "      <td>0.836000</td>\n",
              "      <td>0.810000</td>\n",
              "      <td>...</td>\n",
              "      <td>0.495000</td>\n",
              "      <td>0.424000</td>\n",
              "      <td>0.373000</td>\n",
              "      <td>0.35400</td>\n",
              "      <td>0.340000</td>\n",
              "      <td>0.355000</td>\n",
              "      <td>0.380000</td>\n",
              "      <td>0.370000</td>\n",
              "      <td>0.367000</td>\n",
              "      <td>0.377000</td>\n",
              "    </tr>\n",
              "    <tr>\n",
              "      <th>25%</th>\n",
              "      <td>0.921000</td>\n",
              "      <td>1.362000</td>\n",
              "      <td>1.538500</td>\n",
              "      <td>1.731000</td>\n",
              "      <td>1.774000</td>\n",
              "      <td>1.785500</td>\n",
              "      <td>1.930500</td>\n",
              "      <td>1.618000</td>\n",
              "      <td>1.799500</td>\n",
              "      <td>1.636000</td>\n",
              "      <td>...</td>\n",
              "      <td>0.860000</td>\n",
              "      <td>0.690500</td>\n",
              "      <td>0.581000</td>\n",
              "      <td>0.53000</td>\n",
              "      <td>0.523500</td>\n",
              "      <td>0.542000</td>\n",
              "      <td>0.567000</td>\n",
              "      <td>0.743000</td>\n",
              "      <td>0.792000</td>\n",
              "      <td>0.884000</td>\n",
              "    </tr>\n",
              "    <tr>\n",
              "      <th>50%</th>\n",
              "      <td>1.335000</td>\n",
              "      <td>1.905000</td>\n",
              "      <td>2.064000</td>\n",
              "      <td>2.457000</td>\n",
              "      <td>2.667000</td>\n",
              "      <td>2.682000</td>\n",
              "      <td>3.225000</td>\n",
              "      <td>2.171000</td>\n",
              "      <td>2.802000</td>\n",
              "      <td>2.679000</td>\n",
              "      <td>...</td>\n",
              "      <td>1.328000</td>\n",
              "      <td>0.803000</td>\n",
              "      <td>0.738000</td>\n",
              "      <td>0.68500</td>\n",
              "      <td>0.691000</td>\n",
              "      <td>0.693000</td>\n",
              "      <td>0.764000</td>\n",
              "      <td>1.031000</td>\n",
              "      <td>1.071000</td>\n",
              "      <td>1.289000</td>\n",
              "    </tr>\n",
              "    <tr>\n",
              "      <th>75%</th>\n",
              "      <td>1.814000</td>\n",
              "      <td>2.683000</td>\n",
              "      <td>2.739000</td>\n",
              "      <td>4.094000</td>\n",
              "      <td>4.314000</td>\n",
              "      <td>3.835500</td>\n",
              "      <td>5.000000</td>\n",
              "      <td>3.193000</td>\n",
              "      <td>5.000000</td>\n",
              "      <td>3.526500</td>\n",
              "      <td>...</td>\n",
              "      <td>4.436500</td>\n",
              "      <td>1.159000</td>\n",
              "      <td>0.913000</td>\n",
              "      <td>0.83700</td>\n",
              "      <td>0.857000</td>\n",
              "      <td>0.863000</td>\n",
              "      <td>1.002500</td>\n",
              "      <td>2.068500</td>\n",
              "      <td>1.560000</td>\n",
              "      <td>1.657500</td>\n",
              "    </tr>\n",
              "    <tr>\n",
              "      <th>max</th>\n",
              "      <td>5.000000</td>\n",
              "      <td>5.025000</td>\n",
              "      <td>5.029000</td>\n",
              "      <td>5.017000</td>\n",
              "      <td>5.000000</td>\n",
              "      <td>5.005000</td>\n",
              "      <td>5.008000</td>\n",
              "      <td>5.087000</td>\n",
              "      <td>5.000000</td>\n",
              "      <td>5.022000</td>\n",
              "      <td>...</td>\n",
              "      <td>5.000000</td>\n",
              "      <td>5.000000</td>\n",
              "      <td>5.000000</td>\n",
              "      <td>5.00000</td>\n",
              "      <td>5.000000</td>\n",
              "      <td>5.000000</td>\n",
              "      <td>5.000000</td>\n",
              "      <td>5.000000</td>\n",
              "      <td>5.000000</td>\n",
              "      <td>5.000000</td>\n",
              "    </tr>\n",
              "  </tbody>\n",
              "</table>\n",
              "<p>8 rows × 24 columns</p>\n",
              "</div>\n",
              "      <button class=\"colab-df-convert\" onclick=\"convertToInteractive('df-43782254-996d-4dc4-b6f8-96b5a1e7846c')\"\n",
              "              title=\"Convert this dataframe to an interactive table.\"\n",
              "              style=\"display:none;\">\n",
              "        \n",
              "  <svg xmlns=\"http://www.w3.org/2000/svg\" height=\"24px\"viewBox=\"0 0 24 24\"\n",
              "       width=\"24px\">\n",
              "    <path d=\"M0 0h24v24H0V0z\" fill=\"none\"/>\n",
              "    <path d=\"M18.56 5.44l.94 2.06.94-2.06 2.06-.94-2.06-.94-.94-2.06-.94 2.06-2.06.94zm-11 1L8.5 8.5l.94-2.06 2.06-.94-2.06-.94L8.5 2.5l-.94 2.06-2.06.94zm10 10l.94 2.06.94-2.06 2.06-.94-2.06-.94-.94-2.06-.94 2.06-2.06.94z\"/><path d=\"M17.41 7.96l-1.37-1.37c-.4-.4-.92-.59-1.43-.59-.52 0-1.04.2-1.43.59L10.3 9.45l-7.72 7.72c-.78.78-.78 2.05 0 2.83L4 21.41c.39.39.9.59 1.41.59.51 0 1.02-.2 1.41-.59l7.78-7.78 2.81-2.81c.8-.78.8-2.07 0-2.86zM5.41 20L4 18.59l7.72-7.72 1.47 1.35L5.41 20z\"/>\n",
              "  </svg>\n",
              "      </button>\n",
              "      \n",
              "  <style>\n",
              "    .colab-df-container {\n",
              "      display:flex;\n",
              "      flex-wrap:wrap;\n",
              "      gap: 12px;\n",
              "    }\n",
              "\n",
              "    .colab-df-convert {\n",
              "      background-color: #E8F0FE;\n",
              "      border: none;\n",
              "      border-radius: 50%;\n",
              "      cursor: pointer;\n",
              "      display: none;\n",
              "      fill: #1967D2;\n",
              "      height: 32px;\n",
              "      padding: 0 0 0 0;\n",
              "      width: 32px;\n",
              "    }\n",
              "\n",
              "    .colab-df-convert:hover {\n",
              "      background-color: #E2EBFA;\n",
              "      box-shadow: 0px 1px 2px rgba(60, 64, 67, 0.3), 0px 1px 3px 1px rgba(60, 64, 67, 0.15);\n",
              "      fill: #174EA6;\n",
              "    }\n",
              "\n",
              "    [theme=dark] .colab-df-convert {\n",
              "      background-color: #3B4455;\n",
              "      fill: #D2E3FC;\n",
              "    }\n",
              "\n",
              "    [theme=dark] .colab-df-convert:hover {\n",
              "      background-color: #434B5C;\n",
              "      box-shadow: 0px 1px 3px 1px rgba(0, 0, 0, 0.15);\n",
              "      filter: drop-shadow(0px 1px 2px rgba(0, 0, 0, 0.3));\n",
              "      fill: #FFFFFF;\n",
              "    }\n",
              "  </style>\n",
              "\n",
              "      <script>\n",
              "        const buttonEl =\n",
              "          document.querySelector('#df-43782254-996d-4dc4-b6f8-96b5a1e7846c button.colab-df-convert');\n",
              "        buttonEl.style.display =\n",
              "          google.colab.kernel.accessAllowed ? 'block' : 'none';\n",
              "\n",
              "        async function convertToInteractive(key) {\n",
              "          const element = document.querySelector('#df-43782254-996d-4dc4-b6f8-96b5a1e7846c');\n",
              "          const dataTable =\n",
              "            await google.colab.kernel.invokeFunction('convertToInteractive',\n",
              "                                                     [key], {});\n",
              "          if (!dataTable) return;\n",
              "\n",
              "          const docLinkHtml = 'Like what you see? Visit the ' +\n",
              "            '<a target=\"_blank\" href=https://colab.research.google.com/notebooks/data_table.ipynb>data table notebook</a>'\n",
              "            + ' to learn more about interactive tables.';\n",
              "          element.innerHTML = '';\n",
              "          dataTable['output_type'] = 'display_data';\n",
              "          await google.colab.output.renderOutput(dataTable, element);\n",
              "          const docLink = document.createElement('div');\n",
              "          docLink.innerHTML = docLinkHtml;\n",
              "          element.appendChild(docLink);\n",
              "        }\n",
              "      </script>\n",
              "    </div>\n",
              "  </div>\n",
              "  "
            ]
          },
          "metadata": {},
          "execution_count": 14
        }
      ]
    },
    {
      "cell_type": "markdown",
      "source": [
        "Used describe to get the statistical data from the dataset."
      ],
      "metadata": {
        "id": "5gEongCc2THf"
      }
    },
    {
      "cell_type": "code",
      "source": [
        "data.isnull().sum()"
      ],
      "metadata": {
        "colab": {
          "base_uri": "https://localhost:8080/"
        },
        "id": "KkUoZ7IGXHCb",
        "outputId": "e6a2c927-59c5-42f5-b1dc-f39de84bcd77"
      },
      "execution_count": 15,
      "outputs": [
        {
          "output_type": "execute_result",
          "data": {
            "text/plain": [
              "S1       0\n",
              "S2       0\n",
              "S3       0\n",
              "S4       0\n",
              "S5       0\n",
              "S6       0\n",
              "S7       0\n",
              "S8       0\n",
              "S9       0\n",
              "S10      0\n",
              "S11      0\n",
              "S12      0\n",
              "S13      0\n",
              "S14      0\n",
              "S15      0\n",
              "S16      0\n",
              "S17      0\n",
              "S18      0\n",
              "S19      0\n",
              "S20      0\n",
              "S21      0\n",
              "S22      0\n",
              "S23      0\n",
              "S24      0\n",
              "class    0\n",
              "dtype: int64"
            ]
          },
          "metadata": {},
          "execution_count": 15
        }
      ]
    },
    {
      "cell_type": "markdown",
      "source": [
        "This dataset has no null values"
      ],
      "metadata": {
        "id": "3sI3QPIaXcNm"
      }
    },
    {
      "cell_type": "code",
      "source": [
        "data['class'].value_counts()"
      ],
      "metadata": {
        "colab": {
          "base_uri": "https://localhost:8080/"
        },
        "id": "IrDjBmPr4Vln",
        "outputId": "abf6a4e3-444e-4f02-fa37-47ae54410a6b"
      },
      "execution_count": 16,
      "outputs": [
        {
          "output_type": "execute_result",
          "data": {
            "text/plain": [
              "Move-Forward         2205\n",
              "Sharp-Right-Turn     2097\n",
              "Slight-Right-Turn     825\n",
              "Slight-Left-Turn      328\n",
              "Name: class, dtype: int64"
            ]
          },
          "metadata": {},
          "execution_count": 16
        }
      ]
    },
    {
      "cell_type": "markdown",
      "source": [
        "Imbalanced proportion of different class labels"
      ],
      "metadata": {
        "id": "0puzu2AJ7D3p"
      }
    },
    {
      "cell_type": "code",
      "source": [
        "sns.heatmap(data.corr()) \n",
        "plt.show()"
      ],
      "metadata": {
        "colab": {
          "base_uri": "https://localhost:8080/",
          "height": 448
        },
        "id": "mWW9j7y-XIqy",
        "outputId": "a1ef35fa-a849-4f69-c397-51a621beb6a2"
      },
      "execution_count": 17,
      "outputs": [
        {
          "output_type": "display_data",
          "data": {
            "text/plain": [
              "<Figure size 640x480 with 2 Axes>"
            ],
            "image/png": "[encoded data removed]"
          },
          "metadata": {}
        }
      ]
    },
    {
      "cell_type": "code",
      "source": [
        "data.head(2)"
      ],
      "metadata": {
        "colab": {
          "base_uri": "https://localhost:8080/",
          "height": 185
        },
        "id": "zGYUqfTR2csx",
        "outputId": "734e4f01-f64b-42ad-eb61-78a7e98f97fe"
      },
      "execution_count": 18,
      "outputs": [
        {
          "output_type": "execute_result",
          "data": {
            "text/plain": [
              "      S1     S2     S3     S4   S5     S6   S7     S8     S9    S10  ...  \\\n",
              "0  0.438  0.498  3.625  3.648  5.0  2.918  5.0  2.637  2.332  2.649  ...   \n",
              "1  0.438  0.498  3.625  3.629  5.0  2.918  5.0  2.637  2.334  2.643  ...   \n",
              "\n",
              "     S16    S17    S18    S19    S20    S21    S22    S23    S24  \\\n",
              "0  0.592  0.502  0.493  0.504  0.449  0.431  0.444  0.443  0.429   \n",
              "1  0.593  0.502  0.493  0.504  0.449  0.431  0.444  0.446  0.429   \n",
              "\n",
              "               class  \n",
              "0  Slight-Right-Turn  \n",
              "1  Slight-Right-Turn  \n",
              "\n",
              "[2 rows x 25 columns]"
            ],
            "text/html": [
              "\n",
              "  <div id=\"df-a9bf526b-01d6-44f3-a801-b67df758147b\">\n",
              "    <div class=\"colab-df-container\">\n",
              "      <div>\n",
              "<style scoped>\n",
              "    .dataframe tbody tr th:only-of-type {\n",
              "        vertical-align: middle;\n",
              "    }\n",
              "\n",
              "    .dataframe tbody tr th {\n",
              "        vertical-align: top;\n",
              "    }\n",
              "\n",
              "    .dataframe thead th {\n",
              "        text-align: right;\n",
              "    }\n",
              "</style>\n",
              "<table border=\"1\" class=\"dataframe\">\n",
              "  <thead>\n",
              "    <tr style=\"text-align: right;\">\n",
              "      <th></th>\n",
              "      <th>S1</th>\n",
              "      <th>S2</th>\n",
              "      <th>S3</th>\n",
              "      <th>S4</th>\n",
              "      <th>S5</th>\n",
              "      <th>S6</th>\n",
              "      <th>S7</th>\n",
              "      <th>S8</th>\n",
              "      <th>S9</th>\n",
              "      <th>S10</th>\n",
              "      <th>...</th>\n",
              "      <th>S16</th>\n",
              "      <th>S17</th>\n",
              "      <th>S18</th>\n",
              "      <th>S19</th>\n",
              "      <th>S20</th>\n",
              "      <th>S21</th>\n",
              "      <th>S22</th>\n",
              "      <th>S23</th>\n",
              "      <th>S24</th>\n",
              "      <th>class</th>\n",
              "    </tr>\n",
              "  </thead>\n",
              "  <tbody>\n",
              "    <tr>\n",
              "      <th>0</th>\n",
              "      <td>0.438</td>\n",
              "      <td>0.498</td>\n",
              "      <td>3.625</td>\n",
              "      <td>3.648</td>\n",
              "      <td>5.0</td>\n",
              "      <td>2.918</td>\n",
              "      <td>5.0</td>\n",
              "      <td>2.637</td>\n",
              "      <td>2.332</td>\n",
              "      <td>2.649</td>\n",
              "      <td>...</td>\n",
              "      <td>0.592</td>\n",
              "      <td>0.502</td>\n",
              "      <td>0.493</td>\n",
              "      <td>0.504</td>\n",
              "      <td>0.449</td>\n",
              "      <td>0.431</td>\n",
              "      <td>0.444</td>\n",
              "      <td>0.443</td>\n",
              "      <td>0.429</td>\n",
              "      <td>Slight-Right-Turn</td>\n",
              "    </tr>\n",
              "    <tr>\n",
              "      <th>1</th>\n",
              "      <td>0.438</td>\n",
              "      <td>0.498</td>\n",
              "      <td>3.625</td>\n",
              "      <td>3.629</td>\n",
              "      <td>5.0</td>\n",
              "      <td>2.918</td>\n",
              "      <td>5.0</td>\n",
              "      <td>2.637</td>\n",
              "      <td>2.334</td>\n",
              "      <td>2.643</td>\n",
              "      <td>...</td>\n",
              "      <td>0.593</td>\n",
              "      <td>0.502</td>\n",
              "      <td>0.493</td>\n",
              "      <td>0.504</td>\n",
              "      <td>0.449</td>\n",
              "      <td>0.431</td>\n",
              "      <td>0.444</td>\n",
              "      <td>0.446</td>\n",
              "      <td>0.429</td>\n",
              "      <td>Slight-Right-Turn</td>\n",
              "    </tr>\n",
              "  </tbody>\n",
              "</table>\n",
              "<p>2 rows × 25 columns</p>\n",
              "</div>\n",
              "      <button class=\"colab-df-convert\" onclick=\"convertToInteractive('df-a9bf526b-01d6-44f3-a801-b67df758147b')\"\n",
              "              title=\"Convert this dataframe to an interactive table.\"\n",
              "              style=\"display:none;\">\n",
              "        \n",
              "  <svg xmlns=\"http://www.w3.org/2000/svg\" height=\"24px\"viewBox=\"0 0 24 24\"\n",
              "       width=\"24px\">\n",
              "    <path d=\"M0 0h24v24H0V0z\" fill=\"none\"/>\n",
              "    <path d=\"M18.56 5.44l.94 2.06.94-2.06 2.06-.94-2.06-.94-.94-2.06-.94 2.06-2.06.94zm-11 1L8.5 8.5l.94-2.06 2.06-.94-2.06-.94L8.5 2.5l-.94 2.06-2.06.94zm10 10l.94 2.06.94-2.06 2.06-.94-2.06-.94-.94-2.06-.94 2.06-2.06.94z\"/><path d=\"M17.41 7.96l-1.37-1.37c-.4-.4-.92-.59-1.43-.59-.52 0-1.04.2-1.43.59L10.3 9.45l-7.72 7.72c-.78.78-.78 2.05 0 2.83L4 21.41c.39.39.9.59 1.41.59.51 0 1.02-.2 1.41-.59l7.78-7.78 2.81-2.81c.8-.78.8-2.07 0-2.86zM5.41 20L4 18.59l7.72-7.72 1.47 1.35L5.41 20z\"/>\n",
              "  </svg>\n",
              "      </button>\n",
              "      \n",
              "  <style>\n",
              "    .colab-df-container {\n",
              "      display:flex;\n",
              "      flex-wrap:wrap;\n",
              "      gap: 12px;\n",
              "    }\n",
              "\n",
              "    .colab-df-convert {\n",
              "      background-color: #E8F0FE;\n",
              "      border: none;\n",
              "      border-radius: 50%;\n",
              "      cursor: pointer;\n",
              "      display: none;\n",
              "      fill: #1967D2;\n",
              "      height: 32px;\n",
              "      padding: 0 0 0 0;\n",
              "      width: 32px;\n",
              "    }\n",
              "\n",
              "    .colab-df-convert:hover {\n",
              "      background-color: #E2EBFA;\n",
              "      box-shadow: 0px 1px 2px rgba(60, 64, 67, 0.3), 0px 1px 3px 1px rgba(60, 64, 67, 0.15);\n",
              "      fill: #174EA6;\n",
              "    }\n",
              "\n",
              "    [theme=dark] .colab-df-convert {\n",
              "      background-color: #3B4455;\n",
              "      fill: #D2E3FC;\n",
              "    }\n",
              "\n",
              "    [theme=dark] .colab-df-convert:hover {\n",
              "      background-color: #434B5C;\n",
              "      box-shadow: 0px 1px 3px 1px rgba(0, 0, 0, 0.15);\n",
              "      filter: drop-shadow(0px 1px 2px rgba(0, 0, 0, 0.3));\n",
              "      fill: #FFFFFF;\n",
              "    }\n",
              "  </style>\n",
              "\n",
              "      <script>\n",
              "        const buttonEl =\n",
              "          document.querySelector('#df-a9bf526b-01d6-44f3-a801-b67df758147b button.colab-df-convert');\n",
              "        buttonEl.style.display =\n",
              "          google.colab.kernel.accessAllowed ? 'block' : 'none';\n",
              "\n",
              "        async function convertToInteractive(key) {\n",
              "          const element = document.querySelector('#df-a9bf526b-01d6-44f3-a801-b67df758147b');\n",
              "          const dataTable =\n",
              "            await google.colab.kernel.invokeFunction('convertToInteractive',\n",
              "                                                     [key], {});\n",
              "          if (!dataTable) return;\n",
              "\n",
              "          const docLinkHtml = 'Like what you see? Visit the ' +\n",
              "            '<a target=\"_blank\" href=https://colab.research.google.com/notebooks/data_table.ipynb>data table notebook</a>'\n",
              "            + ' to learn more about interactive tables.';\n",
              "          element.innerHTML = '';\n",
              "          dataTable['output_type'] = 'display_data';\n",
              "          await google.colab.output.renderOutput(dataTable, element);\n",
              "          const docLink = document.createElement('div');\n",
              "          docLink.innerHTML = docLinkHtml;\n",
              "          element.appendChild(docLink);\n",
              "        }\n",
              "      </script>\n",
              "    </div>\n",
              "  </div>\n",
              "  "
            ]
          },
          "metadata": {},
          "execution_count": 18
        }
      ]
    },
    {
      "cell_type": "markdown",
      "source": [
        "# Label Encoding"
      ],
      "metadata": {
        "id": "liodHzM9hM7l"
      }
    },
    {
      "cell_type": "code",
      "source": [
        "from sklearn.preprocessing import LabelEncoder"
      ],
      "metadata": {
        "id": "jok0B3kIhMoa"
      },
      "execution_count": 19,
      "outputs": []
    },
    {
      "cell_type": "code",
      "source": [
        "le = LabelEncoder()\n",
        "data['class'] = le.fit_transform(data['class'])"
      ],
      "metadata": {
        "id": "wlMJCqo0hOiF"
      },
      "execution_count": 20,
      "outputs": []
    },
    {
      "cell_type": "code",
      "source": [
        "data['class'].value_counts()"
      ],
      "metadata": {
        "colab": {
          "base_uri": "https://localhost:8080/"
        },
        "id": "knz6jGb87uD8",
        "outputId": "77e7a372-dcd8-4dd0-e99b-2b3beaaa0fca"
      },
      "execution_count": 21,
      "outputs": [
        {
          "output_type": "execute_result",
          "data": {
            "text/plain": [
              "0    2205\n",
              "1    2097\n",
              "3     825\n",
              "2     328\n",
              "Name: class, dtype: int64"
            ]
          },
          "metadata": {},
          "execution_count": 21
        }
      ]
    },
    {
      "cell_type": "markdown",
      "source": [
        "# Extracting features from the dataset "
      ],
      "metadata": {
        "id": "l5wdIskB2ppM"
      }
    },
    {
      "cell_type": "code",
      "source": [
        "X = data.iloc[:, :-1]"
      ],
      "metadata": {
        "id": "1pJkR-_40hSk"
      },
      "execution_count": 22,
      "outputs": []
    },
    {
      "cell_type": "code",
      "source": [
        "X.head()"
      ],
      "metadata": {
        "colab": {
          "base_uri": "https://localhost:8080/",
          "height": 235
        },
        "id": "ujveBTD32iem",
        "outputId": "58cd756c-1b59-41e0-be7f-2aac0de37f77"
      },
      "execution_count": 23,
      "outputs": [
        {
          "output_type": "execute_result",
          "data": {
            "text/plain": [
              "      S1     S2     S3     S4   S5     S6   S7     S8     S9    S10  ...  \\\n",
              "0  0.438  0.498  3.625  3.648  5.0  2.918  5.0  2.637  2.332  2.649  ...   \n",
              "1  0.438  0.498  3.625  3.629  5.0  2.918  5.0  2.637  2.334  2.643  ...   \n",
              "2  0.437  0.501  3.625  3.626  5.0  2.918  5.0  2.353  2.334  2.642  ...   \n",
              "3  0.438  0.498  3.626  3.629  5.0  2.918  5.0  2.640  2.334  2.639  ...   \n",
              "4  0.439  0.498  3.626  3.629  5.0  2.918  5.0  2.633  2.334  2.645  ...   \n",
              "\n",
              "     S15    S16    S17    S18    S19    S20    S21    S22    S23    S24  \n",
              "0  1.744  0.592  0.502  0.493  0.504  0.449  0.431  0.444  0.443  0.429  \n",
              "1  1.744  0.593  0.502  0.493  0.504  0.449  0.431  0.444  0.446  0.429  \n",
              "2  1.744  0.593  0.502  0.493  0.504  0.449  0.431  0.444  0.444  0.429  \n",
              "3  1.744  0.592  0.502  0.493  0.504  0.449  0.431  0.444  0.441  0.429  \n",
              "4  1.744  0.589  0.502  0.493  0.504  0.446  0.431  0.444  0.444  0.430  \n",
              "\n",
              "[5 rows x 24 columns]"
            ],
            "text/html": [
              "\n",
              "  <div id=\"df-64786d5e-27bf-4554-9122-9f3f63a6fced\">\n",
              "    <div class=\"colab-df-container\">\n",
              "      <div>\n",
              "<style scoped>\n",
              "    .dataframe tbody tr th:only-of-type {\n",
              "        vertical-align: middle;\n",
              "    }\n",
              "\n",
              "    .dataframe tbody tr th {\n",
              "        vertical-align: top;\n",
              "    }\n",
              "\n",
              "    .dataframe thead th {\n",
              "        text-align: right;\n",
              "    }\n",
              "</style>\n",
              "<table border=\"1\" class=\"dataframe\">\n",
              "  <thead>\n",
              "    <tr style=\"text-align: right;\">\n",
              "      <th></th>\n",
              "      <th>S1</th>\n",
              "      <th>S2</th>\n",
              "      <th>S3</th>\n",
              "      <th>S4</th>\n",
              "      <th>S5</th>\n",
              "      <th>S6</th>\n",
              "      <th>S7</th>\n",
              "      <th>S8</th>\n",
              "      <th>S9</th>\n",
              "      <th>S10</th>\n",
              "      <th>...</th>\n",
              "      <th>S15</th>\n",
              "      <th>S16</th>\n",
              "      <th>S17</th>\n",
              "      <th>S18</th>\n",
              "      <th>S19</th>\n",
              "      <th>S20</th>\n",
              "      <th>S21</th>\n",
              "      <th>S22</th>\n",
              "      <th>S23</th>\n",
              "      <th>S24</th>\n",
              "    </tr>\n",
              "  </thead>\n",
              "  <tbody>\n",
              "    <tr>\n",
              "      <th>0</th>\n",
              "      <td>0.438</td>\n",
              "      <td>0.498</td>\n",
              "      <td>3.625</td>\n",
              "      <td>3.648</td>\n",
              "      <td>5.0</td>\n",
              "      <td>2.918</td>\n",
              "      <td>5.0</td>\n",
              "      <td>2.637</td>\n",
              "      <td>2.332</td>\n",
              "      <td>2.649</td>\n",
              "      <td>...</td>\n",
              "      <td>1.744</td>\n",
              "      <td>0.592</td>\n",
              "      <td>0.502</td>\n",
              "      <td>0.493</td>\n",
              "      <td>0.504</td>\n",
              "      <td>0.449</td>\n",
              "      <td>0.431</td>\n",
              "      <td>0.444</td>\n",
              "      <td>0.443</td>\n",
              "      <td>0.429</td>\n",
              "    </tr>\n",
              "    <tr>\n",
              "      <th>1</th>\n",
              "      <td>0.438</td>\n",
              "      <td>0.498</td>\n",
              "      <td>3.625</td>\n",
              "      <td>3.629</td>\n",
              "      <td>5.0</td>\n",
              "      <td>2.918</td>\n",
              "      <td>5.0</td>\n",
              "      <td>2.637</td>\n",
              "      <td>2.334</td>\n",
              "      <td>2.643</td>\n",
              "      <td>...</td>\n",
              "      <td>1.744</td>\n",
              "      <td>0.593</td>\n",
              "      <td>0.502</td>\n",
              "      <td>0.493</td>\n",
              "      <td>0.504</td>\n",
              "      <td>0.449</td>\n",
              "      <td>0.431</td>\n",
              "      <td>0.444</td>\n",
              "      <td>0.446</td>\n",
              "      <td>0.429</td>\n",
              "    </tr>\n",
              "    <tr>\n",
              "      <th>2</th>\n",
              "      <td>0.437</td>\n",
              "      <td>0.501</td>\n",
              "      <td>3.625</td>\n",
              "      <td>3.626</td>\n",
              "      <td>5.0</td>\n",
              "      <td>2.918</td>\n",
              "      <td>5.0</td>\n",
              "      <td>2.353</td>\n",
              "      <td>2.334</td>\n",
              "      <td>2.642</td>\n",
              "      <td>...</td>\n",
              "      <td>1.744</td>\n",
              "      <td>0.593</td>\n",
              "      <td>0.502</td>\n",
              "      <td>0.493</td>\n",
              "      <td>0.504</td>\n",
              "      <td>0.449</td>\n",
              "      <td>0.431</td>\n",
              "      <td>0.444</td>\n",
              "      <td>0.444</td>\n",
              "      <td>0.429</td>\n",
              "    </tr>\n",
              "    <tr>\n",
              "      <th>3</th>\n",
              "      <td>0.438</td>\n",
              "      <td>0.498</td>\n",
              "      <td>3.626</td>\n",
              "      <td>3.629</td>\n",
              "      <td>5.0</td>\n",
              "      <td>2.918</td>\n",
              "      <td>5.0</td>\n",
              "      <td>2.640</td>\n",
              "      <td>2.334</td>\n",
              "      <td>2.639</td>\n",
              "      <td>...</td>\n",
              "      <td>1.744</td>\n",
              "      <td>0.592</td>\n",
              "      <td>0.502</td>\n",
              "      <td>0.493</td>\n",
              "      <td>0.504</td>\n",
              "      <td>0.449</td>\n",
              "      <td>0.431</td>\n",
              "      <td>0.444</td>\n",
              "      <td>0.441</td>\n",
              "      <td>0.429</td>\n",
              "    </tr>\n",
              "    <tr>\n",
              "      <th>4</th>\n",
              "      <td>0.439</td>\n",
              "      <td>0.498</td>\n",
              "      <td>3.626</td>\n",
              "      <td>3.629</td>\n",
              "      <td>5.0</td>\n",
              "      <td>2.918</td>\n",
              "      <td>5.0</td>\n",
              "      <td>2.633</td>\n",
              "      <td>2.334</td>\n",
              "      <td>2.645</td>\n",
              "      <td>...</td>\n",
              "      <td>1.744</td>\n",
              "      <td>0.589</td>\n",
              "      <td>0.502</td>\n",
              "      <td>0.493</td>\n",
              "      <td>0.504</td>\n",
              "      <td>0.446</td>\n",
              "      <td>0.431</td>\n",
              "      <td>0.444</td>\n",
              "      <td>0.444</td>\n",
              "      <td>0.430</td>\n",
              "    </tr>\n",
              "  </tbody>\n",
              "</table>\n",
              "<p>5 rows × 24 columns</p>\n",
              "</div>\n",
              "      <button class=\"colab-df-convert\" onclick=\"convertToInteractive('df-64786d5e-27bf-4554-9122-9f3f63a6fced')\"\n",
              "              title=\"Convert this dataframe to an interactive table.\"\n",
              "              style=\"display:none;\">\n",
              "        \n",
              "  <svg xmlns=\"http://www.w3.org/2000/svg\" height=\"24px\"viewBox=\"0 0 24 24\"\n",
              "       width=\"24px\">\n",
              "    <path d=\"M0 0h24v24H0V0z\" fill=\"none\"/>\n",
              "    <path d=\"M18.56 5.44l.94 2.06.94-2.06 2.06-.94-2.06-.94-.94-2.06-.94 2.06-2.06.94zm-11 1L8.5 8.5l.94-2.06 2.06-.94-2.06-.94L8.5 2.5l-.94 2.06-2.06.94zm10 10l.94 2.06.94-2.06 2.06-.94-2.06-.94-.94-2.06-.94 2.06-2.06.94z\"/><path d=\"M17.41 7.96l-1.37-1.37c-.4-.4-.92-.59-1.43-.59-.52 0-1.04.2-1.43.59L10.3 9.45l-7.72 7.72c-.78.78-.78 2.05 0 2.83L4 21.41c.39.39.9.59 1.41.59.51 0 1.02-.2 1.41-.59l7.78-7.78 2.81-2.81c.8-.78.8-2.07 0-2.86zM5.41 20L4 18.59l7.72-7.72 1.47 1.35L5.41 20z\"/>\n",
              "  </svg>\n",
              "      </button>\n",
              "      \n",
              "  <style>\n",
              "    .colab-df-container {\n",
              "      display:flex;\n",
              "      flex-wrap:wrap;\n",
              "      gap: 12px;\n",
              "    }\n",
              "\n",
              "    .colab-df-convert {\n",
              "      background-color: #E8F0FE;\n",
              "      border: none;\n",
              "      border-radius: 50%;\n",
              "      cursor: pointer;\n",
              "      display: none;\n",
              "      fill: #1967D2;\n",
              "      height: 32px;\n",
              "      padding: 0 0 0 0;\n",
              "      width: 32px;\n",
              "    }\n",
              "\n",
              "    .colab-df-convert:hover {\n",
              "      background-color: #E2EBFA;\n",
              "      box-shadow: 0px 1px 2px rgba(60, 64, 67, 0.3), 0px 1px 3px 1px rgba(60, 64, 67, 0.15);\n",
              "      fill: #174EA6;\n",
              "    }\n",
              "\n",
              "    [theme=dark] .colab-df-convert {\n",
              "      background-color: #3B4455;\n",
              "      fill: #D2E3FC;\n",
              "    }\n",
              "\n",
              "    [theme=dark] .colab-df-convert:hover {\n",
              "      background-color: #434B5C;\n",
              "      box-shadow: 0px 1px 3px 1px rgba(0, 0, 0, 0.15);\n",
              "      filter: drop-shadow(0px 1px 2px rgba(0, 0, 0, 0.3));\n",
              "      fill: #FFFFFF;\n",
              "    }\n",
              "  </style>\n",
              "\n",
              "      <script>\n",
              "        const buttonEl =\n",
              "          document.querySelector('#df-64786d5e-27bf-4554-9122-9f3f63a6fced button.colab-df-convert');\n",
              "        buttonEl.style.display =\n",
              "          google.colab.kernel.accessAllowed ? 'block' : 'none';\n",
              "\n",
              "        async function convertToInteractive(key) {\n",
              "          const element = document.querySelector('#df-64786d5e-27bf-4554-9122-9f3f63a6fced');\n",
              "          const dataTable =\n",
              "            await google.colab.kernel.invokeFunction('convertToInteractive',\n",
              "                                                     [key], {});\n",
              "          if (!dataTable) return;\n",
              "\n",
              "          const docLinkHtml = 'Like what you see? Visit the ' +\n",
              "            '<a target=\"_blank\" href=https://colab.research.google.com/notebooks/data_table.ipynb>data table notebook</a>'\n",
              "            + ' to learn more about interactive tables.';\n",
              "          element.innerHTML = '';\n",
              "          dataTable['output_type'] = 'display_data';\n",
              "          await google.colab.output.renderOutput(dataTable, element);\n",
              "          const docLink = document.createElement('div');\n",
              "          docLink.innerHTML = docLinkHtml;\n",
              "          element.appendChild(docLink);\n",
              "        }\n",
              "      </script>\n",
              "    </div>\n",
              "  </div>\n",
              "  "
            ]
          },
          "metadata": {},
          "execution_count": 23
        }
      ]
    },
    {
      "cell_type": "code",
      "source": [
        "y = data['class']"
      ],
      "metadata": {
        "id": "qM7WcvQC2kmk"
      },
      "execution_count": 24,
      "outputs": []
    },
    {
      "cell_type": "code",
      "source": [
        "y.head()"
      ],
      "metadata": {
        "colab": {
          "base_uri": "https://localhost:8080/"
        },
        "id": "FyKO1cMy2yzD",
        "outputId": "0abe330e-fa23-4e9e-dd66-4697235998b9"
      },
      "execution_count": 25,
      "outputs": [
        {
          "output_type": "execute_result",
          "data": {
            "text/plain": [
              "0    3\n",
              "1    3\n",
              "2    3\n",
              "3    3\n",
              "4    3\n",
              "Name: class, dtype: int64"
            ]
          },
          "metadata": {},
          "execution_count": 25
        }
      ]
    },
    {
      "cell_type": "markdown",
      "source": [
        "# Splitting the dataset into training and testing data.."
      ],
      "metadata": {
        "id": "hnVBQgi022uh"
      }
    },
    {
      "cell_type": "code",
      "source": [
        "from sklearn.model_selection import train_test_split\n",
        "x_train, x_test, y_train, y_test = train_test_split(X, y, test_size = 0.3, random_state = 42)"
      ],
      "metadata": {
        "id": "N4rhzV4E22Lc"
      },
      "execution_count": 26,
      "outputs": []
    },
    {
      "cell_type": "markdown",
      "source": [
        "# Logistic Regression"
      ],
      "metadata": {
        "id": "zxkfV2PH0e_f"
      }
    },
    {
      "cell_type": "code",
      "source": [
        "from sklearn.linear_model import LogisticRegression\n",
        "lr = LogisticRegression()\n",
        "lr.fit(x_train, y_train)\n",
        "pred = lr.predict(x_test)"
      ],
      "metadata": {
        "colab": {
          "base_uri": "https://localhost:8080/"
        },
        "id": "JQ5QoOtv3Mf1",
        "outputId": "30342978-3de9-42ab-bc01-581a58384d49"
      },
      "execution_count": 27,
      "outputs": [
        {
          "output_type": "stream",
          "name": "stderr",
          "text": [
            "/usr/local/lib/python3.9/dist-packages/sklearn/linear_model/_logistic.py:458: ConvergenceWarning: lbfgs failed to converge (status=1):\n",
            "STOP: TOTAL NO. of ITERATIONS REACHED LIMIT.\n",
            "\n",
            "Increase the number of iterations (max_iter) or scale the data as shown in:\n",
            "    https://scikit-learn.org/stable/modules/preprocessing.html\n",
            "Please also refer to the documentation for alternative solver options:\n",
            "    https://scikit-learn.org/stable/modules/linear_model.html#logistic-regression\n",
            "  n_iter_i = _check_optimize_result(\n"
          ]
        }
      ]
    },
    {
      "cell_type": "code",
      "source": [
        "from sklearn.metrics import accuracy_score\n",
        "from sklearn.metrics import classification_report\n",
        "from sklearn.metrics import confusion_matrix"
      ],
      "metadata": {
        "id": "AXpbRMCs3QSN"
      },
      "execution_count": 28,
      "outputs": []
    },
    {
      "cell_type": "code",
      "source": [
        "print('Accuracy: ', accuracy_score(y_test, pred) * 100)\n",
        "print('Confusion_Matrix : \\n', confusion_matrix(y_test, pred))\n",
        "print('Classification Report : \\n', classification_report(y_test, pred))"
      ],
      "metadata": {
        "colab": {
          "base_uri": "https://localhost:8080/"
        },
        "id": "QaAF1t-C4GVA",
        "outputId": "08289115-4249-488c-ec3f-2fceb61a6aa8"
      },
      "execution_count": 29,
      "outputs": [
        {
          "output_type": "stream",
          "name": "stdout",
          "text": [
            "Accuracy:  68.6010995723885\n",
            "Confusion_Matrix : \n",
            " [[453 155  19  27]\n",
            " [ 82 493  13  42]\n",
            " [ 17  28  51   0]\n",
            " [ 58  67   6 126]]\n",
            "Classification Report : \n",
            "               precision    recall  f1-score   support\n",
            "\n",
            "           0       0.74      0.69      0.72       654\n",
            "           1       0.66      0.78      0.72       630\n",
            "           2       0.57      0.53      0.55        96\n",
            "           3       0.65      0.49      0.56       257\n",
            "\n",
            "    accuracy                           0.69      1637\n",
            "   macro avg       0.66      0.62      0.64      1637\n",
            "weighted avg       0.69      0.69      0.68      1637\n",
            "\n"
          ]
        }
      ]
    },
    {
      "cell_type": "markdown",
      "source": [
        "# Decision Tree"
      ],
      "metadata": {
        "id": "misJJHY04bCa"
      }
    },
    {
      "cell_type": "code",
      "source": [
        "from sklearn.tree import DecisionTreeClassifier"
      ],
      "metadata": {
        "id": "hOtnZKcj4hIl"
      },
      "execution_count": 30,
      "outputs": []
    },
    {
      "cell_type": "code",
      "source": [
        "clf_gini = DecisionTreeClassifier(criterion = \"gini\")\n",
        "clf_gini.fit(x_train, y_train)\n",
        "pred2 = clf_gini.predict(x_test)\n",
        "print('Confusion Matrix: \\n', confusion_matrix(y_test, pred2))\n",
        "print('Classification Report: \\n', classification_report(y_test, pred2))"
      ],
      "metadata": {
        "colab": {
          "base_uri": "https://localhost:8080/"
        },
        "id": "Fwb5shUy5Lg1",
        "outputId": "645c430a-4ab8-4907-f439-1219c05229bc"
      },
      "execution_count": 31,
      "outputs": [
        {
          "output_type": "stream",
          "name": "stdout",
          "text": [
            "Confusion Matrix: \n",
            " [[650   2   2   0]\n",
            " [  4 625   0   1]\n",
            " [  2   0  94   0]\n",
            " [  1   1   0 255]]\n",
            "Classification Report: \n",
            "               precision    recall  f1-score   support\n",
            "\n",
            "           0       0.99      0.99      0.99       654\n",
            "           1       1.00      0.99      0.99       630\n",
            "           2       0.98      0.98      0.98        96\n",
            "           3       1.00      0.99      0.99       257\n",
            "\n",
            "    accuracy                           0.99      1637\n",
            "   macro avg       0.99      0.99      0.99      1637\n",
            "weighted avg       0.99      0.99      0.99      1637\n",
            "\n"
          ]
        }
      ]
    },
    {
      "cell_type": "code",
      "source": [],
      "metadata": {
        "id": "OTlYkCYO5nQc"
      },
      "execution_count": 31,
      "outputs": []
    },
    {
      "cell_type": "markdown",
      "source": [
        "# Random Forest"
      ],
      "metadata": {
        "id": "OQ-sgv2D5q_F"
      }
    },
    {
      "cell_type": "code",
      "source": [
        "from sklearn.ensemble import RandomForestClassifier"
      ],
      "metadata": {
        "id": "uX39L5365uht"
      },
      "execution_count": 32,
      "outputs": []
    },
    {
      "cell_type": "code",
      "source": [
        "clf = RandomForestClassifier(random_state = 10)\n",
        "clf.fit(x_train, y_train)\n",
        "pred3 =  clf.predict(x_test)\n",
        "print('Accuracy score : ', accuracy_score(y_test, pred3) * 100)\n",
        "print('Confusion Matrix : \\n', confusion_matrix(y_test, pred3))\n",
        "print('Classifiction Report : \\n', classification_report(y_test, pred3))"
      ],
      "metadata": {
        "colab": {
          "base_uri": "https://localhost:8080/"
        },
        "id": "WU3KXfk7belO",
        "outputId": "1e12ee12-f37e-42ab-a5d2-c882ffb4a3d8"
      },
      "execution_count": 33,
      "outputs": [
        {
          "output_type": "stream",
          "name": "stdout",
          "text": [
            "Accuracy score :  99.20586438607208\n",
            "Confusion Matrix : \n",
            " [[648   2   2   2]\n",
            " [  2 628   0   0]\n",
            " [  2   1  93   0]\n",
            " [  1   1   0 255]]\n",
            "Classifiction Report : \n",
            "               precision    recall  f1-score   support\n",
            "\n",
            "           0       0.99      0.99      0.99       654\n",
            "           1       0.99      1.00      1.00       630\n",
            "           2       0.98      0.97      0.97        96\n",
            "           3       0.99      0.99      0.99       257\n",
            "\n",
            "    accuracy                           0.99      1637\n",
            "   macro avg       0.99      0.99      0.99      1637\n",
            "weighted avg       0.99      0.99      0.99      1637\n",
            "\n"
          ]
        }
      ]
    },
    {
      "cell_type": "code",
      "source": [],
      "metadata": {
        "id": "IhdPexJscBmf"
      },
      "execution_count": 33,
      "outputs": []
    },
    {
      "cell_type": "markdown",
      "source": [
        "# Adaboost"
      ],
      "metadata": {
        "id": "GQfbl65CcXhS"
      }
    },
    {
      "cell_type": "code",
      "source": [
        "from sklearn.ensemble import AdaBoostClassifier"
      ],
      "metadata": {
        "id": "XEwAkjjfcZmf"
      },
      "execution_count": 34,
      "outputs": []
    },
    {
      "cell_type": "code",
      "source": [
        "ada_clf = AdaBoostClassifier(n_estimators = 500)\n",
        "ada_clf.fit(x_train, y_train)\n",
        "pred4 = ada_clf.predict(x_test)\n",
        "print('Accuracy Score: ', accuracy_score(y_test, pred4) * 100)\n",
        "print('Confusion Matrix: \\n', confusion_matrix(y_test, pred4))\n",
        "print('Classification Report: \\n', classification_report(y_test, pred4))"
      ],
      "metadata": {
        "colab": {
          "base_uri": "https://localhost:8080/"
        },
        "id": "wsd7Ui_HckD8",
        "outputId": "99d8234e-b89d-436f-a2b0-510b7bc80270"
      },
      "execution_count": 35,
      "outputs": [
        {
          "output_type": "stream",
          "name": "stdout",
          "text": [
            "Accuracy Score:  77.88637751985338\n",
            "Confusion Matrix: \n",
            " [[645   9   0   0]\n",
            " [  0 630   0   0]\n",
            " [ 94   2   0   0]\n",
            " [257   0   0   0]]\n",
            "Classification Report: \n",
            "               precision    recall  f1-score   support\n",
            "\n",
            "           0       0.65      0.99      0.78       654\n",
            "           1       0.98      1.00      0.99       630\n",
            "           2       0.00      0.00      0.00        96\n",
            "           3       0.00      0.00      0.00       257\n",
            "\n",
            "    accuracy                           0.78      1637\n",
            "   macro avg       0.41      0.50      0.44      1637\n",
            "weighted avg       0.64      0.78      0.69      1637\n",
            "\n"
          ]
        },
        {
          "output_type": "stream",
          "name": "stderr",
          "text": [
            "/usr/local/lib/python3.9/dist-packages/sklearn/metrics/_classification.py:1344: UndefinedMetricWarning: Precision and F-score are ill-defined and being set to 0.0 in labels with no predicted samples. Use `zero_division` parameter to control this behavior.\n",
            "  _warn_prf(average, modifier, msg_start, len(result))\n",
            "/usr/local/lib/python3.9/dist-packages/sklearn/metrics/_classification.py:1344: UndefinedMetricWarning: Precision and F-score are ill-defined and being set to 0.0 in labels with no predicted samples. Use `zero_division` parameter to control this behavior.\n",
            "  _warn_prf(average, modifier, msg_start, len(result))\n",
            "/usr/local/lib/python3.9/dist-packages/sklearn/metrics/_classification.py:1344: UndefinedMetricWarning: Precision and F-score are ill-defined and being set to 0.0 in labels with no predicted samples. Use `zero_division` parameter to control this behavior.\n",
            "  _warn_prf(average, modifier, msg_start, len(result))\n"
          ]
        }
      ]
    },
    {
      "cell_type": "code",
      "source": [],
      "metadata": {
        "id": "TWliYgmUdA9w"
      },
      "execution_count": 35,
      "outputs": []
    },
    {
      "cell_type": "markdown",
      "source": [
        "# XGBoost"
      ],
      "metadata": {
        "id": "A9-R9umcdKKI"
      }
    },
    {
      "cell_type": "code",
      "source": [
        "import xgboost as xgb"
      ],
      "metadata": {
        "id": "X46Y03_MdLjh"
      },
      "execution_count": 36,
      "outputs": []
    },
    {
      "cell_type": "code",
      "source": [
        "model = xgb.XGBClassifier()\n",
        "model.fit(x_train, y_train)\n",
        "pred5 = model.predict(x_test)\n",
        "print('Accuracy Score: ', accuracy_score(y_test, pred5) * 100)\n",
        "print('Confusion Matrix: \\n', confusion_matrix(y_test, pred5))\n",
        "print('Classification Report: \\n', classification_report(y_test, pred5))"
      ],
      "metadata": {
        "colab": {
          "base_uri": "https://localhost:8080/"
        },
        "id": "ADDZS5bOdrvS",
        "outputId": "25ae383e-0a82-442e-d095-587afa973cd2"
      },
      "execution_count": 37,
      "outputs": [
        {
          "output_type": "stream",
          "name": "stdout",
          "text": [
            "Accuracy Score:  99.6334758704948\n",
            "Confusion Matrix: \n",
            " [[653   1   0   0]\n",
            " [  2 627   0   1]\n",
            " [  0   2  94   0]\n",
            " [  0   0   0 257]]\n",
            "Classification Report: \n",
            "               precision    recall  f1-score   support\n",
            "\n",
            "           0       1.00      1.00      1.00       654\n",
            "           1       1.00      1.00      1.00       630\n",
            "           2       1.00      0.98      0.99        96\n",
            "           3       1.00      1.00      1.00       257\n",
            "\n",
            "    accuracy                           1.00      1637\n",
            "   macro avg       1.00      0.99      1.00      1637\n",
            "weighted avg       1.00      1.00      1.00      1637\n",
            "\n"
          ]
        }
      ]
    },
    {
      "cell_type": "code",
      "source": [],
      "metadata": {
        "id": "WFHYOpELeNbz"
      },
      "execution_count": 37,
      "outputs": []
    },
    {
      "cell_type": "markdown",
      "source": [
        "# K-Fold Validation"
      ],
      "metadata": {
        "id": "ZNS0imjI-6Eb"
      }
    },
    {
      "cell_type": "code",
      "source": [
        "from sklearn.model_selection import StratifiedKFold"
      ],
      "metadata": {
        "id": "DdHzLEFJC0ku"
      },
      "execution_count": 38,
      "outputs": []
    },
    {
      "cell_type": "code",
      "source": [
        "kfold = StratifiedKFold(n_splits=10)"
      ],
      "metadata": {
        "id": "d1OKoCCvC8c-"
      },
      "execution_count": 39,
      "outputs": []
    },
    {
      "cell_type": "code",
      "source": [
        "from sklearn.model_selection import cross_validate\n",
        "from sklearn.metrics import f1_score\n",
        "def cross_validation(model, _X, _y, _cv=5):\n",
        "  _scoring = ['f1_macro']\n",
        "  results = cross_validate(estimator=model, X=_X, y=_y, cv=kfold, scoring=_scoring, return_train_score=True)\n",
        "  return {  \"Training F1 scores\": results['train_f1_macro'],\n",
        "            \"Mean Training F1 Score\": results['train_f1_macro'].mean(),\n",
        "            \"Validation F1 scores\": results['test_f1_macro'],\n",
        "            \"Mean Validation F1 Score\": results['test_f1_macro'].mean()\n",
        "            }"
      ],
      "metadata": {
        "id": "9PnZZlkx-8Zj"
      },
      "execution_count": 40,
      "outputs": []
    },
    {
      "cell_type": "markdown",
      "source": [
        "**AdaBoost**"
      ],
      "metadata": {
        "id": "PjUsboy7EjK7"
      }
    },
    {
      "cell_type": "code",
      "source": [
        "clf2 = AdaBoostClassifier(n_estimators = 500)"
      ],
      "metadata": {
        "id": "WQzOOzY1AHpr"
      },
      "execution_count": 41,
      "outputs": []
    },
    {
      "cell_type": "code",
      "source": [
        "cross_validation(clf2, X, y)"
      ],
      "metadata": {
        "colab": {
          "base_uri": "https://localhost:8080/"
        },
        "id": "zHQ1XEIb_fKY",
        "outputId": "fe1779e5-06dd-4ad2-e1f4-367d2fdc9f8d"
      },
      "execution_count": 42,
      "outputs": [
        {
          "output_type": "execute_result",
          "data": {
            "text/plain": [
              "{'Training F1 scores': array([0.44673365, 0.44812332, 0.44671318, 0.44709203, 0.44671318,\n",
              "        0.8293436 , 0.44663249, 0.44669319, 0.44598161, 0.44735089]),\n",
              " 'Mean Training F1 Score': 0.48513771378583703,\n",
              " 'Validation F1 scores': array([0.44784173, 0.437809  , 0.44802867, 0.44461492, 0.44802867,\n",
              "        0.80426035, 0.44874101, 0.4481982 , 0.4481982 , 0.44228944]),\n",
              " 'Mean Validation F1 Score': 0.4818010195393799}"
            ]
          },
          "metadata": {},
          "execution_count": 42
        }
      ]
    },
    {
      "cell_type": "markdown",
      "source": [
        "**Logistic** **Regression**"
      ],
      "metadata": {
        "id": "thwA2Z4xF04J"
      }
    },
    {
      "cell_type": "code",
      "source": [
        "lr2 = LogisticRegression(max_iter = 500)"
      ],
      "metadata": {
        "id": "QGrlA8unF2VJ"
      },
      "execution_count": 43,
      "outputs": []
    },
    {
      "cell_type": "code",
      "source": [
        "cross_validation(lr2, X, y)"
      ],
      "metadata": {
        "colab": {
          "base_uri": "https://localhost:8080/"
        },
        "id": "GiIWYEBHF33H",
        "outputId": "183445c9-7607-40be-9f0f-4327e5cefa7b"
      },
      "execution_count": 44,
      "outputs": [
        {
          "output_type": "stream",
          "name": "stderr",
          "text": [
            "/usr/local/lib/python3.9/dist-packages/sklearn/linear_model/_logistic.py:458: ConvergenceWarning: lbfgs failed to converge (status=1):\n",
            "STOP: TOTAL NO. of ITERATIONS REACHED LIMIT.\n",
            "\n",
            "Increase the number of iterations (max_iter) or scale the data as shown in:\n",
            "    https://scikit-learn.org/stable/modules/preprocessing.html\n",
            "Please also refer to the documentation for alternative solver options:\n",
            "    https://scikit-learn.org/stable/modules/linear_model.html#logistic-regression\n",
            "  n_iter_i = _check_optimize_result(\n",
            "/usr/local/lib/python3.9/dist-packages/sklearn/linear_model/_logistic.py:458: ConvergenceWarning: lbfgs failed to converge (status=1):\n",
            "STOP: TOTAL NO. of ITERATIONS REACHED LIMIT.\n",
            "\n",
            "Increase the number of iterations (max_iter) or scale the data as shown in:\n",
            "    https://scikit-learn.org/stable/modules/preprocessing.html\n",
            "Please also refer to the documentation for alternative solver options:\n",
            "    https://scikit-learn.org/stable/modules/linear_model.html#logistic-regression\n",
            "  n_iter_i = _check_optimize_result(\n"
          ]
        },
        {
          "output_type": "execute_result",
          "data": {
            "text/plain": [
              "{'Training F1 scores': array([0.6677599 , 0.69860077, 0.68487794, 0.66192811, 0.68996158,\n",
              "        0.66318353, 0.68044347, 0.66144389, 0.6649998 , 0.66843595]),\n",
              " 'Mean Training F1 Score': 0.6741634936570164,\n",
              " 'Validation F1 scores': array([0.59690092, 0.53862436, 0.57955227, 0.65692809, 0.52392859,\n",
              "        0.60294229, 0.67400158, 0.74041881, 0.64169685, 0.65497983]),\n",
              " 'Mean Validation F1 Score': 0.6209973601548441}"
            ]
          },
          "metadata": {},
          "execution_count": 44
        }
      ]
    },
    {
      "cell_type": "markdown",
      "source": [
        "# Hyperparameter Tuning"
      ],
      "metadata": {
        "id": "D5TdvFld9cuT"
      }
    },
    {
      "cell_type": "code",
      "source": [
        "from sklearn.model_selection import GridSearchCV"
      ],
      "metadata": {
        "id": "7GRrcmX8IN_V"
      },
      "execution_count": 45,
      "outputs": []
    },
    {
      "cell_type": "code",
      "source": [
        "params = {'n_estimators':[100, 150, 200, 250], 'learning_rate': [0.25, 0.5, 1.0, 1.5], 'algorithm': ['SAMME', 'SAMME.R']}"
      ],
      "metadata": {
        "id": "_LGPT51MF6OQ"
      },
      "execution_count": 46,
      "outputs": []
    },
    {
      "cell_type": "code",
      "source": [
        "ada = AdaBoostClassifier()\n",
        "clf3 = GridSearchCV(ada, params, cv = 10, scoring='f1_macro')\n",
        "clf3.fit(x_train, y_train)\n",
        "print(clf3.best_params_)"
      ],
      "metadata": {
        "colab": {
          "base_uri": "https://localhost:8080/"
        },
        "id": "6_zYWB7bIGzE",
        "outputId": "dec08a99-adc1-42aa-fc35-ba800d7142f5"
      },
      "execution_count": 50,
      "outputs": [
        {
          "output_type": "stream",
          "name": "stdout",
          "text": [
            "{'algorithm': 'SAMME', 'learning_rate': 1.5, 'n_estimators': 100}\n"
          ]
        }
      ]
    },
    {
      "cell_type": "code",
      "source": [
        "clf4 = AdaBoostClassifier(n_estimators = 100, learning_rate = 1.5, algorithm = 'SAMME')\n",
        "clf4.fit(x_train, y_train)\n",
        "pred4 = clf4.predict(x_test)\n",
        "print('Accuracy Score : ', accuracy_score(y_test, pred4))\n",
        "print('Classification Report: \\n', classification_report(y_test, pred4))\n",
        "print('Confusion Matrix: \\n', confusion_matrix(y_test, pred4))"
      ],
      "metadata": {
        "colab": {
          "base_uri": "https://localhost:8080/"
        },
        "id": "kDgLl6fE8hfK",
        "outputId": "d44e9a98-9bc9-4bbd-8eb0-bb77c1f9ca10"
      },
      "execution_count": 49,
      "outputs": [
        {
          "output_type": "stream",
          "name": "stdout",
          "text": [
            "Accuracy Score :  0.9572388515577276\n",
            "Classification Report: \n",
            "               precision    recall  f1-score   support\n",
            "\n",
            "           0       0.95      0.99      0.97       654\n",
            "           1       1.00      0.94      0.97       630\n",
            "           2       0.95      0.93      0.94        96\n",
            "           3       0.89      0.93      0.91       257\n",
            "\n",
            "    accuracy                           0.96      1637\n",
            "   macro avg       0.95      0.95      0.95      1637\n",
            "weighted avg       0.96      0.96      0.96      1637\n",
            "\n",
            "Confusion Matrix: \n",
            " [[647   2   0   5]\n",
            " [  8 592   5  25]\n",
            " [  7   0  89   0]\n",
            " [ 18   0   0 239]]\n"
          ]
        }
      ]
    },
    {
      "cell_type": "code",
      "source": [],
      "metadata": {
        "id": "mrcjkKmfAK1G"
      },
      "execution_count": null,
      "outputs": []
    },
    {
      "cell_type": "markdown",
      "source": [
        "# Performance of all the algorithms:"
      ],
      "metadata": {
        "id": "fY-TYOJmO1fV"
      }
    },
    {
      "cell_type": "markdown",
      "source": [
        "![image.png](data:image/png;base64,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)"
      ],
      "metadata": {
        "id": "WvvqiINzOgzD"
      }
    }
  ]
}